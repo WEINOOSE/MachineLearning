{
 "cells": [
  {
   "attachments": {},
   "cell_type": "markdown",
   "metadata": {},
   "source": [
    "#### Application: Frequent Movie Types You've Watched"
   ]
  },
  {
   "cell_type": "code",
   "execution_count": 22,
   "metadata": {},
   "outputs": [
    {
     "name": "stdout",
     "output_type": "stream",
     "text": [
      "\n",
      " RelationRecord(items=frozenset({'Action', 'Fantastic'}), support=0.099601593625498, ordered_statistics=[OrderedStatistic(items_base=frozenset({'Action'}), items_add=frozenset({'Fantastic'}), confidence=0.3846153846153846, lift=3.016826923076923), OrderedStatistic(items_base=frozenset({'Fantastic'}), items_add=frozenset({'Action'}), confidence=0.78125, lift=3.0168269230769234)]) \n",
      "\n",
      "\n",
      " RelationRecord(items=frozenset({'Sport', 'Biography'}), support=0.02390438247011952, ordered_statistics=[OrderedStatistic(items_base=frozenset({'Sport'}), items_add=frozenset({'Biography'}), confidence=0.42857142857142855, lift=3.9841269841269837)]) \n",
      "\n",
      "\n",
      " RelationRecord(items=frozenset({'Buddy', 'Comedy'}), support=0.08366533864541832, ordered_statistics=[OrderedStatistic(items_base=frozenset({'Buddy'}), items_add=frozenset({'Comedy'}), confidence=1.0, lift=3.921875), OrderedStatistic(items_base=frozenset({'Comedy'}), items_add=frozenset({'Buddy'}), confidence=0.328125, lift=3.9218750000000004)]) \n",
      "\n",
      "\n",
      " RelationRecord(items=frozenset({'Epic', 'Drama'}), support=0.03187250996015936, ordered_statistics=[OrderedStatistic(items_base=frozenset({'Epic'}), items_add=frozenset({'Drama'}), confidence=0.8888888888888888, lift=3.330016583747927)]) \n",
      "\n",
      "\n",
      " RelationRecord(items=frozenset({'Mystery', 'Thriller'}), support=0.03187250996015936, ordered_statistics=[OrderedStatistic(items_base=frozenset({'Mystery'}), items_add=frozenset({'Thriller'}), confidence=0.4, lift=3.8615384615384616), OrderedStatistic(items_base=frozenset({'Thriller'}), items_add=frozenset({'Mystery'}), confidence=0.30769230769230765, lift=3.861538461538461)]) \n",
      "\n"
     ]
    }
   ],
   "source": [
    "import pandas as pd\n",
    "from src import apriori\n",
    "\n",
    "data = pd.DataFrame(pd.read_excel('datasets/frequentmovietypes.xlsx'))\n",
    "\n",
    "main_list = []\n",
    "\n",
    "s = 0\n",
    "while s < len(list(data['MAIN GENRE'])):\n",
    "    fow = list(data.iloc[s,:])\n",
    "    main_list.append(fow)\n",
    "    s += 1\n",
    "\n",
    "result = apriori(main_list, min_support=0.01, min_confidence=0.25, min_lift=3, min_length=2)\n",
    "\n",
    "for i in list(result):\n",
    "    print(\"\\n\", i,\"\\n\")"
   ]
  },
  {
   "attachments": {},
   "cell_type": "markdown",
   "metadata": {},
   "source": [
    "#### Application: Frequent Products You've Been Buying"
   ]
  },
  {
   "cell_type": "code",
   "execution_count": 23,
   "metadata": {},
   "outputs": [
    {
     "name": "stdout",
     "output_type": "stream",
     "text": [
      "\n",
      " RelationRecord(items=frozenset({'almonds', 'eggs'}), support=0.012422360248447204, ordered_statistics=[OrderedStatistic(items_base=frozenset({'almonds'}), items_add=frozenset({'eggs'}), confidence=0.5, lift=4.2368421052631575)]) \n",
      "\n",
      "\n",
      " RelationRecord(items=frozenset({'avocado', 'soup'}), support=0.012422360248447204, ordered_statistics=[OrderedStatistic(items_base=frozenset({'avocado'}), items_add=frozenset({'soup'}), confidence=0.3333333333333333, lift=4.472222222222221)]) \n",
      "\n",
      "\n",
      " RelationRecord(items=frozenset({'turkey', 'burgers'}), support=0.012422360248447204, ordered_statistics=[OrderedStatistic(items_base=frozenset({'burgers'}), items_add=frozenset({'turkey'}), confidence=0.25, lift=4.472222222222222)]) \n",
      "\n",
      "\n",
      " RelationRecord(items=frozenset({'pasta', 'shrimp'}), support=0.024844720496894408, ordered_statistics=[OrderedStatistic(items_base=frozenset({'pasta'}), items_add=frozenset({'shrimp'}), confidence=1.0, lift=40.25), OrderedStatistic(items_base=frozenset({'shrimp'}), items_add=frozenset({'pasta'}), confidence=1.0, lift=40.25)]) \n",
      "\n",
      "\n",
      " RelationRecord(items=frozenset({'pickles', 'spaghetti'}), support=0.012422360248447204, ordered_statistics=[OrderedStatistic(items_base=frozenset({'pickles'}), items_add=frozenset({'spaghetti'}), confidence=1.0, lift=8.05)]) \n",
      "\n"
     ]
    }
   ],
   "source": [
    "data = pd.DataFrame(pd.read_excel('datasets/apriori.xlsx'))\n",
    "\n",
    "main_list = []\n",
    "\n",
    "s = 0\n",
    "while s < len(list(data.index)):\n",
    "    fow = list(data.iloc[s,:])\n",
    "    k = 0\n",
    "    while k < 5:\n",
    "        fow.pop(0)\n",
    "        k += 1\n",
    "    main_list.append(fow)\n",
    "    s += 1\n",
    "\n",
    "result = apriori(main_list, min_support=0.01, min_confidence=0.25, min_lift=3, min_length=2)\n",
    "\n",
    "for i in list(result):\n",
    "    print(\"\\n\", i,\"\\n\")"
   ]
  }
 ],
 "metadata": {
  "kernelspec": {
   "display_name": "Python 3",
   "language": "python",
   "name": "python3"
  },
  "language_info": {
   "codemirror_mode": {
    "name": "ipython",
    "version": 3
   },
   "file_extension": ".py",
   "mimetype": "text/x-python",
   "name": "python",
   "nbconvert_exporter": "python",
   "pygments_lexer": "ipython3",
   "version": "3.9.7"
  },
  "orig_nbformat": 4,
  "vscode": {
   "interpreter": {
    "hash": "8f939dc046ae95b61db57b1ddfb635e5199eac9f7bf30422bfd106b8f44dc254"
   }
  }
 },
 "nbformat": 4,
 "nbformat_minor": 2
}
