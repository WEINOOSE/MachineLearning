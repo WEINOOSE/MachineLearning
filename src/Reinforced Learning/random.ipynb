{
 "cells": [
  {
   "cell_type": "code",
   "execution_count": 2,
   "metadata": {},
   "outputs": [
    {
     "data": {
      "image/png": "[encoded data removed]",
      "text/plain": [
       "<Figure size 432x288 with 1 Axes>"
      ]
     },
     "metadata": {
      "needs_background": "light"
     },
     "output_type": "display_data"
    }
   ],
   "source": [
    "import random\n",
    "import pandas as pd\n",
    "import matplotlib.pyplot as plt\n",
    "\n",
    "data = pd.DataFrame(pd.read_csv(\"C:/Users/lenovo/Desktop/ML/datasets/rl.csv\"))\n",
    "\n",
    "# n0 value is row count of the data.\n",
    "n0 = len(data.index.tolist())\n",
    "# d0 value is column count of the data.\n",
    "d0 = len(data.columns.tolist())\n",
    "\n",
    "sum0 = 0\n",
    "selected_ads = []\n",
    "\n",
    "for n1 in range(0,n0):\n",
    "  ad = random.randrange(d0)\n",
    "  selected_ads.append(ad)\n",
    "  award = data.values[n1,d0-1]\n",
    "  sum0 += award\n",
    "\n",
    "plt.hist(selected_ads, range(0, d0+1), histtype='bar', rwidth=0.25, color=\"red\")\n",
    "plt.title(f\"Total: {sum0}\")\n",
    "plt.show()"
   ]
  }
 ],
 "metadata": {
  "kernelspec": {
   "display_name": "Python 3",
   "language": "python",
   "name": "python3"
  },
  "language_info": {
   "codemirror_mode": {
    "name": "ipython",
    "version": 3
   },
   "file_extension": ".py",
   "mimetype": "text/x-python",
   "name": "python",
   "nbconvert_exporter": "python",
   "pygments_lexer": "ipython3",
   "version": "3.9.7"
  },
  "orig_nbformat": 4,
  "vscode": {
   "interpreter": {
    "hash": "8f939dc046ae95b61db57b1ddfb635e5199eac9f7bf30422bfd106b8f44dc254"
   }
  }
 },
 "nbformat": 4,
 "nbformat_minor": 2
}
