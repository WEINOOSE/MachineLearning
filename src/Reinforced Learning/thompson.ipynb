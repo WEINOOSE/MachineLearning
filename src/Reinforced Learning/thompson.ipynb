{
 "cells": [
  {
   "cell_type": "code",
   "execution_count": 3,
   "metadata": {},
   "outputs": [
    {
     "data": {
      "image/png": "[encoded data removed]",
      "text/plain": [
       "<Figure size 432x288 with 1 Axes>"
      ]
     },
     "metadata": {
      "needs_background": "light"
     },
     "output_type": "display_data"
    }
   ],
   "source": [
    "import random\n",
    "import pandas as pd\n",
    "import matplotlib.pyplot as plt\n",
    "\n",
    "data = pd.DataFrame(pd.read_csv(\"C:/Users/lenovo/Desktop/ML/datasets/rl.csv\"))\n",
    "\n",
    "n0 = len(data.index.tolist())\n",
    "d0 = len(data.columns.tolist())\n",
    "\n",
    "ones = [0] * d0\n",
    "zeros = [0] * d0\n",
    "clicks = [0] * d0 \n",
    "toplam = 0 \n",
    "chosen = []\n",
    "for n in range(1,n0):\n",
    "    ad = 0\n",
    "    max_th = 0\n",
    "    for i in range(0,d0):\n",
    "        ranbeta = random.betavariate(ones[i] +1, zeros[i] + 1)\n",
    "        if ranbeta > max_th:\n",
    "            max_th = ranbeta\n",
    "            ad = i\n",
    "    chosen.append(ad)\n",
    "    clicks[ad] = clicks[ad]+ 1\n",
    "    award = data.values[n,ad]\n",
    "    if award == 1:\n",
    "        ones[ad] += 1\n",
    "    else:\n",
    "        zeros[ad] += 1\n",
    "    toplam = toplam + award\n",
    "\n",
    "plt.hist(chosen, range(0, d0+1), histtype='bar', rwidth=0.5, color=\"red\")\n",
    "plt.title(f\"Total: {toplam}\")\n",
    "plt.show()"
   ]
  }
 ],
 "metadata": {
  "kernelspec": {
   "display_name": "Python 3",
   "language": "python",
   "name": "python3"
  },
  "language_info": {
   "codemirror_mode": {
    "name": "ipython",
    "version": 3
   },
   "file_extension": ".py",
   "mimetype": "text/x-python",
   "name": "python",
   "nbconvert_exporter": "python",
   "pygments_lexer": "ipython3",
   "version": "3.9.7"
  },
  "orig_nbformat": 4,
  "vscode": {
   "interpreter": {
    "hash": "8f939dc046ae95b61db57b1ddfb635e5199eac9f7bf30422bfd106b8f44dc254"
   }
  }
 },
 "nbformat": 4,
 "nbformat_minor": 2
}
