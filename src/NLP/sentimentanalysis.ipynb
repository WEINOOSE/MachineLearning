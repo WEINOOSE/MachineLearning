{
 "cells": [
  {
   "cell_type": "code",
   "execution_count": 48,
   "metadata": {},
   "outputs": [],
   "source": [
    "import re\n",
    "import pandas as pd \n",
    "from nltk.corpus import stopwords"
   ]
  },
  {
   "cell_type": "code",
   "execution_count": 49,
   "metadata": {},
   "outputs": [],
   "source": [
    "data = pd.DataFrame(pd.read_csv(\"C:/Users/lenovo/Desktop/CENG/#SRC/Machine Learning/datasets/sentimentanalysis.tsv\", sep='\\t'))\n",
    "x, comments = 0, []"
   ]
  },
  {
   "cell_type": "code",
   "execution_count": 50,
   "metadata": {},
   "outputs": [],
   "source": [
    "from nltk.stem.porter import PorterStemmer\n",
    "from sklearn.feature_extraction.text import CountVectorizer\n",
    "\n",
    "ps = PorterStemmer()\n",
    "cv = CountVectorizer(max_features = 2500)"
   ]
  },
  {
   "cell_type": "code",
   "execution_count": 51,
   "metadata": {},
   "outputs": [],
   "source": [
    "while x < 1000:\n",
    "    comment = re.sub(\"[^a-zA-Z]\",\" \",data[\"Review\"][x]).lower().split()\n",
    "    comment = [ps.stem(word) for word in comment if not word in set(stopwords.words(\"english\"))]\n",
    "    comment = ' '.join(comment)\n",
    "    comments.append(comment)\n",
    "    x += 1\n",
    "\n",
    "x = cv.fit_transform(comments).toarray()\n",
    "y = data.iloc[:,1].values\n",
    "\n",
    "from sklearn.model_selection import train_test_split\n",
    "x_train, x_test, y_train, y_test = train_test_split(x, y, test_size = 0.3, random_state = 0)"
   ]
  },
  {
   "cell_type": "code",
   "execution_count": 52,
   "metadata": {},
   "outputs": [],
   "source": [
    "from xgboost import XGBClassifier\n",
    "XGB = XGBClassifier(silent=True, verbosity=0, use_label_encoder=False)\n",
    "\n",
    "from sklearn.preprocessing import StandardScaler\n",
    "SCALER = StandardScaler()\n",
    "\n",
    "x_train = SCALER.fit_transform(x_train)\n",
    "x_test = SCALER.transform(x_test)"
   ]
  },
  {
   "cell_type": "code",
   "execution_count": 53,
   "metadata": {},
   "outputs": [],
   "source": [
    "def classify(MODEL, TITLE):\n",
    "\n",
    "    MODEL.fit(x_train, y_train)\n",
    "    y_predicted = MODEL.predict(x_test)\n",
    "\n",
    "    import matplotlib.pyplot as plt\n",
    "    from sklearn.metrics import accuracy_score, classification_report, confusion_matrix, ConfusionMatrixDisplay\n",
    "    from sklearn.model_selection import cross_val_score\n",
    "\n",
    "    CM = confusion_matrix(y_test, y_predicted)\n",
    "    TP = CM[0][0]\n",
    "    TN = CM[1][1]\n",
    "    FP = CM[0][1]\n",
    "    FN = CM[1][0]\n",
    "    TP_RATE = round(TP/(TP + FN)*100,3)\n",
    "    FP_RATE = round(FP/(FP + TN)*100,3)\n",
    "    PRECISION = round(TP/(TP + FN)*100,3)\n",
    "    RECALL = round(TP/(TP + FP)*100,3)\n",
    "    F1 = round(2*((PRECISION*RECALL)/(PRECISION+RECALL)),3)\n",
    "\n",
    "    print(classification_report(y_test,y_predicted))\n",
    "    CVALIDATION = round(cross_val_score(estimator = MODEL, X = x_train, y = y_train, cv = 4).mean()*100,3)\n",
    "    print(f'{TITLE}\\nCross Validation: %{CVALIDATION}\\nTrue Positive Rate: %{TP_RATE} | False Positive Rate: %{FP_RATE}\\nAccuracy: %{round(accuracy_score(y_test, y_predicted)*100,3)} | Precision: %{RECALL} | Recall: %{PRECISION} | F1 Score: %{F1}')\n",
    "    \n",
    "    plt.figure(figsize=(16,10),dpi=80)\n",
    "    CM = ConfusionMatrixDisplay(CM)\n",
    "    CM.plot()        \n",
    "    plt.show()"
   ]
  },
  {
   "cell_type": "code",
   "execution_count": 54,
   "metadata": {},
   "outputs": [
    {
     "name": "stdout",
     "output_type": "stream",
     "text": [
      "              precision    recall  f1-score   support\n",
      "\n",
      "           0       0.62      0.81      0.71       143\n",
      "           1       0.76      0.55      0.64       157\n",
      "\n",
      "    accuracy                           0.68       300\n",
      "   macro avg       0.69      0.68      0.67       300\n",
      "weighted avg       0.70      0.68      0.67       300\n",
      "\n",
      "XGBoost Classifier\n",
      "Cross Validation: %72.571\n",
      "True Positive Rate: %62.366 | False Positive Rate: %23.684\n",
      "Accuracy: %67.667 | Precision: %81.119 | Recall: %62.366 | F1 Score: %70.517\n"
     ]
    },
    {
     "data": {
      "text/plain": [
       "<Figure size 1280x800 with 0 Axes>"
      ]
     },
     "metadata": {},
     "output_type": "display_data"
    },
    {
     "data": {
      "image/png": "[encoded data removed]",
      "text/plain": [
       "<Figure size 432x288 with 2 Axes>"
      ]
     },
     "metadata": {
      "needs_background": "light"
     },
     "output_type": "display_data"
    }
   ],
   "source": [
    "classify(XGB, 'XGBoost Classifier')"
   ]
  }
 ],
 "metadata": {
  "kernelspec": {
   "display_name": "Python 3",
   "language": "python",
   "name": "python3"
  },
  "language_info": {
   "codemirror_mode": {
    "name": "ipython",
    "version": 3
   },
   "file_extension": ".py",
   "mimetype": "text/x-python",
   "name": "python",
   "nbconvert_exporter": "python",
   "pygments_lexer": "ipython3",
   "version": "3.9.7"
  },
  "orig_nbformat": 4,
  "vscode": {
   "interpreter": {
    "hash": "8f939dc046ae95b61db57b1ddfb635e5199eac9f7bf30422bfd106b8f44dc254"
   }
  }
 },
 "nbformat": 4,
 "nbformat_minor": 2
}
